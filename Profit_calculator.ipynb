# investment = money invested at first day.
# rate = percent of profit it will return in a day. for eg:- for 100 rs at 10% returns you'll have 110 rs at the day end.
# days_invested = no of days you kept your money invested. 
def Money(investment , rate , days_invested):
    day = 0
    while days_invested > 0:
        days_invested = days_invested - 1
        day = day + 1
        investment = investment + ((rate/100) * investment)
        profit = ((rate/100) * investment)
        print("Day -" , day ,"---", "Total Money", ":" , investment ,"|", "Profit :",profit)
