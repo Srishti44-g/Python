{
 "cells": [
  {
   "cell_type": "code",
   "execution_count": 1,
   "id": "72b3e513",
   "metadata": {},
   "outputs": [],
   "source": [
    "import numpy as np"
   ]
  },
  {
   "cell_type": "code",
   "execution_count": 5,
   "id": "82b9e309",
   "metadata": {},
   "outputs": [
    {
     "data": {
      "text/plain": [
       "array([[1, 2, 3],\n",
       "       [3, 4, 5],\n",
       "       [6, 7, 8]])"
      ]
     },
     "execution_count": 5,
     "metadata": {},
     "output_type": "execute_result"
    }
   ],
   "source": [
    "array2 = np.array([[1,2,3],[3,4,5],[6,7,8]])\n",
    "array2"
   ]
  },
  {
   "cell_type": "raw",
   "id": "8ce23e88",
   "metadata": {},
   "source": [
    "a = np.arrange(1,3,1,int)\n",
    "a"
   ]
  },
  {
   "cell_type": "code",
   "execution_count": 2,
   "id": "46b0bf39",
   "metadata": {},
   "outputs": [
    {
     "data": {
      "text/plain": [
       "array([ 7, 14, 21, 28, 35])"
      ]
     },
     "execution_count": 2,
     "metadata": {},
     "output_type": "execute_result"
    }
   ],
   "source": [
    "array1 = np.array([7,14,21,28,35])\n",
    "array1"
   ]
  },
  {
   "cell_type": "code",
   "execution_count": null,
   "id": "86c5a921",
   "metadata": {},
   "outputs": [],
   "source": [
    "a = np.arange(1,3,1,int)\n",
    "a"
   ]
  },
  {
   "cell_type": "markdown",
   "id": "0e450905",
   "metadata": {},
   "source": [
    "# Arange function"
   ]
  },
  {
   "cell_type": "code",
   "execution_count": 9,
   "id": "5aedffb9",
   "metadata": {},
   "outputs": [
    {
     "data": {
      "text/plain": [
       "array([0, 1, 2, 3, 4])"
      ]
     },
     "execution_count": 9,
     "metadata": {},
     "output_type": "execute_result"
    }
   ],
   "source": [
    "b = np.arange(5)\n",
    "b"
   ]
  },
  {
   "cell_type": "markdown",
   "id": "4e7e621e",
   "metadata": {},
   "source": [
    "# Linspace function linspace()"
   ]
  },
  {
   "cell_type": "code",
   "execution_count": 10,
   "id": "72a14a46",
   "metadata": {},
   "outputs": [
    {
     "data": {
      "text/plain": [
       "array([  1., 100.])"
      ]
     },
     "execution_count": 10,
     "metadata": {},
     "output_type": "execute_result"
    }
   ],
   "source": [
    "d = np.linspace(1,100,2)\n",
    "d"
   ]
  },
  {
   "cell_type": "code",
   "execution_count": 12,
   "id": "125bcd7f",
   "metadata": {},
   "outputs": [
    {
     "data": {
      "text/plain": [
       "array([  2. ,  51.5, 101. , 150.5, 200. ])"
      ]
     },
     "execution_count": 12,
     "metadata": {},
     "output_type": "execute_result"
    }
   ],
   "source": [
    "e = np.linspace(2,200,5)\n",
    "e"
   ]
  },
  {
   "cell_type": "markdown",
   "id": "8a388a77",
   "metadata": {},
   "source": [
    "# logspace()"
   ]
  },
  {
   "cell_type": "code",
   "execution_count": 13,
   "id": "1ee0a8d8",
   "metadata": {},
   "outputs": [
    {
     "data": {
      "text/plain": [
       "array([ 10.       ,  31.6227766, 100.       ])"
      ]
     },
     "execution_count": 13,
     "metadata": {},
     "output_type": "execute_result"
    }
   ],
   "source": [
    "f = np.logspace(1,2,3)\n",
    "f"
   ]
  },
  {
   "cell_type": "markdown",
   "id": "a77416d4",
   "metadata": {},
   "source": [
    "# Aggregate Function"
   ]
  },
  {
   "cell_type": "code",
   "execution_count": 15,
   "id": "a2d9a1f7",
   "metadata": {},
   "outputs": [
    {
     "data": {
      "text/plain": [
       "array([2.79221025, 2.89775971, 5.4579249 , 8.2641594 , 2.43377111,\n",
       "       0.01400573, 2.09951788, 1.42771729, 3.71515133, 4.02490285,\n",
       "       4.45093504, 6.93373024, 8.68518178, 9.0610324 , 9.34200305,\n",
       "       6.62969279, 5.25267283, 4.27092417, 8.71842847, 2.48417511])"
      ]
     },
     "execution_count": 15,
     "metadata": {},
     "output_type": "execute_result"
    }
   ],
   "source": [
    "values1 = 10 *(np.random.random(20))\n",
    "values1"
   ]
  },
  {
   "cell_type": "code",
   "execution_count": 20,
   "id": "9233d01a",
   "metadata": {},
   "outputs": [
    {
     "name": "stdout",
     "output_type": "stream",
     "text": [
      "Max\t: 9.342003050125868\n"
     ]
    },
    {
     "data": {
      "text/plain": [
       "7.2663375303684035"
      ]
     },
     "execution_count": 20,
     "metadata": {},
     "output_type": "execute_result"
    }
   ],
   "source": [
    "Max = np.max(values1)\n",
    "Max_Index = np.argmax(values1)\n",
    "Min = np.min(values1)\n",
    "Min_Index = np.argmin(values1)\n",
    "Sum = np.sum(values1)\n",
    "Prod = np.prod(values1)\n",
    "Mean = np.mean(values1)\n",
    "SD = np.std(values1)\n",
    "variance = np.var(values1)\n",
    "Med = np.median(values1)\n",
    "per25 = np.percentile(values1,25)\n",
    "per75 = np.percentile(values1,75)\n",
    "print(\"Max\\t:\",Max)\n",
    "Max_Index\n",
    "Min\n",
    "Min_Index\n",
    "Sum\n",
    "Prod\n",
    "Mean\n",
    "SD\n",
    "variance\n",
    "Med\n",
    "per25\n",
    "per75\n"
   ]
  },
  {
   "cell_type": "code",
   "execution_count": 21,
   "id": "dbb37432",
   "metadata": {},
   "outputs": [],
   "source": [
    "import matplotlib.pyplot as plt"
   ]
  },
  {
   "cell_type": "code",
   "execution_count": 22,
   "id": "c4d976fb",
   "metadata": {},
   "outputs": [
    {
     "data": {
      "image/png": "[encoded data removed]",
      "text/plain": [
       "<Figure size 432x288 with 1 Axes>"
      ]
     },
     "metadata": {
      "needs_background": "light"
     },
     "output_type": "display_data"
    }
   ],
   "source": [
    "plt.hist(values1)\n",
    "plt.title('Values Generator')\n",
    "plt.xlabel('Values')\n",
    "plt.ylabel('Number')\n",
    "plt.show()"
   ]
  },
  {
   "cell_type": "code",
   "execution_count": 25,
   "id": "833565e9",
   "metadata": {},
   "outputs": [
    {
     "ename": "NameError",
     "evalue": "name 'B' is not defined",
     "output_type": "error",
     "traceback": [
      "\u001b[1;31m---------------------------------------------------------------------------\u001b[0m",
      "\u001b[1;31mNameError\u001b[0m                                 Traceback (most recent call last)",
      "\u001b[1;32m<ipython-input-25-bce528968b02>\u001b[0m in \u001b[0;36m<module>\u001b[1;34m\u001b[0m\n\u001b[1;32m----> 1\u001b[1;33m \u001b[0mMax\u001b[0m \u001b[1;33m=\u001b[0m \u001b[0mnp\u001b[0m\u001b[1;33m.\u001b[0m\u001b[0mmax\u001b[0m\u001b[1;33m(\u001b[0m\u001b[0mB\u001b[0m\u001b[1;33m)\u001b[0m\u001b[1;33m\u001b[0m\u001b[1;33m\u001b[0m\u001b[0m\n\u001b[0m\u001b[0;32m      2\u001b[0m \u001b[0mMax_Index\u001b[0m \u001b[1;33m=\u001b[0m \u001b[0mnp\u001b[0m\u001b[1;33m.\u001b[0m\u001b[0margmax\u001b[0m\u001b[1;33m(\u001b[0m\u001b[0mB\u001b[0m\u001b[1;33m)\u001b[0m\u001b[1;33m\u001b[0m\u001b[1;33m\u001b[0m\u001b[0m\n\u001b[0;32m      3\u001b[0m \u001b[0mMin\u001b[0m \u001b[1;33m=\u001b[0m \u001b[0mnp\u001b[0m\u001b[1;33m.\u001b[0m\u001b[0mmin\u001b[0m\u001b[1;33m(\u001b[0m\u001b[0mB\u001b[0m\u001b[1;33m)\u001b[0m\u001b[1;33m\u001b[0m\u001b[1;33m\u001b[0m\u001b[0m\n\u001b[0;32m      4\u001b[0m \u001b[0mMax_Index\u001b[0m \u001b[1;33m=\u001b[0m \u001b[0mnp\u001b[0m\u001b[1;33m.\u001b[0m\u001b[0mmin\u001b[0m\u001b[1;33m(\u001b[0m\u001b[0mB\u001b[0m\u001b[1;33m)\u001b[0m\u001b[1;33m\u001b[0m\u001b[1;33m\u001b[0m\u001b[0m\n\u001b[0;32m      5\u001b[0m \u001b[0mSum\u001b[0m \u001b[1;33m=\u001b[0m \u001b[0mnp\u001b[0m\u001b[1;33m.\u001b[0m\u001b[0msum\u001b[0m\u001b[1;33m(\u001b[0m\u001b[0mB\u001b[0m\u001b[1;33m)\u001b[0m\u001b[1;33m\u001b[0m\u001b[1;33m\u001b[0m\u001b[0m\n",
      "\u001b[1;31mNameError\u001b[0m: name 'B' is not defined"
     ]
    }
   ],
   "source": [
    "Max = np.max(B)\n",
    "Max_Index = np.argmax(B)\n",
    "Min = np.min(B)\n",
    "Max_Index = np.min(B)\n",
    "Sum = np.sum(B)\n",
    "Prob = np.prob(B)\n",
    "Mean = np.mean(B)\n",
    "SD =np.std(B)\n",
    "Variance =np.var(B)\n",
    "Med =np.median(B)\n",
    "Per25 = np.percentile(B,25)\n",
    "Per75 = np.percentile(B,75)\n",
    "Print(\"Max\\t:\",Max,\"\\nIndex\\t:\",Max_Index,\"\\nMin\\t:\",Min,\"\\nIndex\\t:\",Min_Index,\"\\nAverage \\t:\",Mean,\"\\n Stand Deviation\\t:\",SD,\"\\n Variance \\t\",variance)"
   ]
  },
  {
   "cell_type": "code",
   "execution_count": 26,
   "id": "9b893571",
   "metadata": {},
   "outputs": [
    {
     "name": "stdout",
     "output_type": "stream",
     "text": [
      "Sum\t: [ 8 10 12] \n",
      " Difference \t: [-6 -6 -6] \n",
      " Prod \t [ 7 16 27] \n",
      " Div \t [0.14285714 0.25       0.33333333]\n"
     ]
    }
   ],
   "source": [
    "import numpy as np\n",
    "A = np.array([1,2,3])\n",
    "B = np.array([7,8,9])\n",
    "Sum = A+B\n",
    "Diff= A-B\n",
    "Prod = A*B\n",
    "Div = A/B\n",
    "print(\"Sum\\t:\", Sum,\"\\n Difference \\t:\",Diff,\"\\n Prod \\t\",Prod,\"\\n Div \\t\",Div)\n"
   ]
  },
  {
   "cell_type": "code",
   "execution_count": 34,
   "id": "778e529d",
   "metadata": {},
   "outputs": [
    {
     "ename": "NameError",
     "evalue": "name 'array' is not defined",
     "output_type": "error",
     "traceback": [
      "\u001b[1;31m---------------------------------------------------------------------------\u001b[0m",
      "\u001b[1;31mNameError\u001b[0m                                 Traceback (most recent call last)",
      "\u001b[1;32m<ipython-input-34-27645952ae8a>\u001b[0m in \u001b[0;36m<module>\u001b[1;34m\u001b[0m\n\u001b[0;32m      1\u001b[0m \u001b[0mC\u001b[0m \u001b[1;33m=\u001b[0m \u001b[0mB\u001b[0m\u001b[1;33m[\u001b[0m\u001b[1;33m:\u001b[0m\u001b[1;33m,\u001b[0m\u001b[0mnp\u001b[0m\u001b[1;33m.\u001b[0m\u001b[0mnewaxis\u001b[0m\u001b[1;33m]\u001b[0m\u001b[1;33m\u001b[0m\u001b[1;33m\u001b[0m\u001b[0m\n\u001b[0;32m      2\u001b[0m \u001b[0mC\u001b[0m\u001b[1;33m\u001b[0m\u001b[1;33m\u001b[0m\u001b[0m\n\u001b[1;32m----> 3\u001b[1;33m \u001b[0marray\u001b[0m\u001b[1;33m(\u001b[0m\u001b[1;33m[\u001b[0m\u001b[1;36m7\u001b[0m\u001b[1;33m]\u001b[0m\u001b[1;33m,\u001b[0m\u001b[1;33m[\u001b[0m\u001b[1;36m8\u001b[0m\u001b[1;33m]\u001b[0m\u001b[1;33m,\u001b[0m\u001b[1;33m[\u001b[0m\u001b[1;36m9\u001b[0m\u001b[1;33m]\u001b[0m\u001b[1;33m)\u001b[0m\u001b[1;33m\u001b[0m\u001b[1;33m\u001b[0m\u001b[0m\n\u001b[0m\u001b[0;32m      4\u001b[0m \u001b[0mSum\u001b[0m \u001b[1;33m=\u001b[0m \u001b[0mA\u001b[0m\u001b[1;33m+\u001b[0m\u001b[0mC\u001b[0m\u001b[1;33m\u001b[0m\u001b[1;33m\u001b[0m\u001b[0m\n\u001b[0;32m      5\u001b[0m \u001b[0mDiff\u001b[0m \u001b[1;33m=\u001b[0m\u001b[0mA\u001b[0m\u001b[1;33m-\u001b[0m\u001b[0mC\u001b[0m\u001b[1;33m\u001b[0m\u001b[1;33m\u001b[0m\u001b[0m\n",
      "\u001b[1;31mNameError\u001b[0m: name 'array' is not defined"
     ]
    }
   ],
   "source": [
    "C = B[:,np.newaxis] \n",
    "C \n",
    "array([7],[8],[9])\n",
    "Sum = A+C\n",
    "Diff =A-C\n",
    "Prod = A*C\n",
    "Div= A/C\n",
    "print(\"Sum \\t:\\n\",Sum,\"\\n Difference \\t\",Diff,\"\\n Product \\t :\",prod,\"\\n Div \\t:\\n\",Div)"
   ]
  }
 ],
 "metadata": {
  "kernelspec": {
   "display_name": "Python 3",
   "language": "python",
   "name": "python3"
  },
  "language_info": {
   "codemirror_mode": {
    "name": "ipython",
    "version": 3
   },
   "file_extension": ".py",
   "mimetype": "text/x-python",
   "name": "python",
   "nbconvert_exporter": "python",
   "pygments_lexer": "ipython3",
   "version": "3.8.8"
  }
 },
 "nbformat": 4,
 "nbformat_minor": 5
}
